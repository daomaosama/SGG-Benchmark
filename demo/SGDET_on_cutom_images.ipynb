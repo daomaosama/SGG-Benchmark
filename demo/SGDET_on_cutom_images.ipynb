{
 "cells": [
  {
   "cell_type": "code",
   "execution_count": 1,
   "metadata": {},
   "outputs": [
    {
     "ename": "ValueError",
     "evalue": "Type mismatch (<class 'list'> vs. <class 'int'>) with values ([192, 384, 576] vs. 192) for config key: MODEL.YOLO.OUT_CHANNELS",
     "output_type": "error",
     "traceback": [
      "\u001b[0;31m---------------------------------------------------------------------------\u001b[0m",
      "\u001b[0;31mValueError\u001b[0m                                Traceback (most recent call last)",
      "Cell \u001b[0;32mIn[1], line 11\u001b[0m\n\u001b[1;32m      8\u001b[0m weights_path \u001b[38;5;241m=\u001b[39m \u001b[38;5;124m\"\u001b[39m\u001b[38;5;124m../checkpoints/react_PSG/best_model_epoch_11.pth\u001b[39m\u001b[38;5;124m\"\u001b[39m\n\u001b[1;32m     10\u001b[0m source \u001b[38;5;241m=\u001b[39m \u001b[38;5;124m\"\u001b[39m\u001b[38;5;124m./example.jpg\u001b[39m\u001b[38;5;124m\"\u001b[39m\n\u001b[0;32m---> 11\u001b[0m model \u001b[38;5;241m=\u001b[39m SGG_Model(config_path, weights_path, rel_conf\u001b[38;5;241m=\u001b[39m\u001b[38;5;241m0.1\u001b[39m, box_conf\u001b[38;5;241m=\u001b[39m\u001b[38;5;241m0.01\u001b[39m, show_fps\u001b[38;5;241m=\u001b[39m\u001b[38;5;28;01mFalse\u001b[39;00m)\n",
      "File \u001b[0;32m~/SGG-Benchmark/demo/demo_model.py:23\u001b[0m, in \u001b[0;36mSGG_Model.__init__\u001b[0;34m(self, config, weights, dcs, tracking, rel_conf, box_conf, show_fps)\u001b[0m\n\u001b[1;32m     22\u001b[0m \u001b[38;5;28;01mdef\u001b[39;00m \u001b[38;5;21m__init__\u001b[39m(\u001b[38;5;28mself\u001b[39m, config, weights, dcs\u001b[38;5;241m=\u001b[39m\u001b[38;5;241m100\u001b[39m, tracking\u001b[38;5;241m=\u001b[39m\u001b[38;5;28;01mFalse\u001b[39;00m, rel_conf\u001b[38;5;241m=\u001b[39m\u001b[38;5;241m0.1\u001b[39m, box_conf\u001b[38;5;241m=\u001b[39m\u001b[38;5;241m0.5\u001b[39m, show_fps\u001b[38;5;241m=\u001b[39m\u001b[38;5;28;01mTrue\u001b[39;00m) \u001b[38;5;241m-\u001b[39m\u001b[38;5;241m>\u001b[39m \u001b[38;5;28;01mNone\u001b[39;00m:\n\u001b[0;32m---> 23\u001b[0m     cfg\u001b[38;5;241m.\u001b[39mmerge_from_file(config)\n\u001b[1;32m     24\u001b[0m     cfg\u001b[38;5;241m.\u001b[39mTEST\u001b[38;5;241m.\u001b[39mCUSTUM_EVAL \u001b[38;5;241m=\u001b[39m \u001b[38;5;28;01mTrue\u001b[39;00m\n\u001b[1;32m     25\u001b[0m     cfg\u001b[38;5;241m.\u001b[39mOUTPUT_DIR \u001b[38;5;241m=\u001b[39m os\u001b[38;5;241m.\u001b[39mpath\u001b[38;5;241m.\u001b[39mdirname(config)\n",
      "File \u001b[0;32m~/miniconda3/envs/torch-env/lib/python3.11/site-packages/yacs/config.py:213\u001b[0m, in \u001b[0;36mCfgNode.merge_from_file\u001b[0;34m(self, cfg_filename)\u001b[0m\n\u001b[1;32m    211\u001b[0m \u001b[38;5;28;01mwith\u001b[39;00m \u001b[38;5;28mopen\u001b[39m(cfg_filename, \u001b[38;5;124m\"\u001b[39m\u001b[38;5;124mr\u001b[39m\u001b[38;5;124m\"\u001b[39m) \u001b[38;5;28;01mas\u001b[39;00m f:\n\u001b[1;32m    212\u001b[0m     cfg \u001b[38;5;241m=\u001b[39m \u001b[38;5;28mself\u001b[39m\u001b[38;5;241m.\u001b[39mload_cfg(f)\n\u001b[0;32m--> 213\u001b[0m \u001b[38;5;28mself\u001b[39m\u001b[38;5;241m.\u001b[39mmerge_from_other_cfg(cfg)\n",
      "File \u001b[0;32m~/miniconda3/envs/torch-env/lib/python3.11/site-packages/yacs/config.py:217\u001b[0m, in \u001b[0;36mCfgNode.merge_from_other_cfg\u001b[0;34m(self, cfg_other)\u001b[0m\n\u001b[1;32m    215\u001b[0m \u001b[38;5;28;01mdef\u001b[39;00m \u001b[38;5;21mmerge_from_other_cfg\u001b[39m(\u001b[38;5;28mself\u001b[39m, cfg_other):\n\u001b[1;32m    216\u001b[0m \u001b[38;5;250m    \u001b[39m\u001b[38;5;124;03m\"\"\"Merge `cfg_other` into this CfgNode.\"\"\"\u001b[39;00m\n\u001b[0;32m--> 217\u001b[0m     _merge_a_into_b(cfg_other, \u001b[38;5;28mself\u001b[39m, \u001b[38;5;28mself\u001b[39m, [])\n",
      "File \u001b[0;32m~/miniconda3/envs/torch-env/lib/python3.11/site-packages/yacs/config.py:478\u001b[0m, in \u001b[0;36m_merge_a_into_b\u001b[0;34m(a, b, root, key_list)\u001b[0m\n\u001b[1;32m    476\u001b[0m \u001b[38;5;28;01mif\u001b[39;00m \u001b[38;5;28misinstance\u001b[39m(v, CfgNode):\n\u001b[1;32m    477\u001b[0m     \u001b[38;5;28;01mtry\u001b[39;00m:\n\u001b[0;32m--> 478\u001b[0m         _merge_a_into_b(v, b[k], root, key_list \u001b[38;5;241m+\u001b[39m [k])\n\u001b[1;32m    479\u001b[0m     \u001b[38;5;28;01mexcept\u001b[39;00m \u001b[38;5;167;01mBaseException\u001b[39;00m:\n\u001b[1;32m    480\u001b[0m         \u001b[38;5;28;01mraise\u001b[39;00m\n",
      "File \u001b[0;32m~/miniconda3/envs/torch-env/lib/python3.11/site-packages/yacs/config.py:478\u001b[0m, in \u001b[0;36m_merge_a_into_b\u001b[0;34m(a, b, root, key_list)\u001b[0m\n\u001b[1;32m    476\u001b[0m \u001b[38;5;28;01mif\u001b[39;00m \u001b[38;5;28misinstance\u001b[39m(v, CfgNode):\n\u001b[1;32m    477\u001b[0m     \u001b[38;5;28;01mtry\u001b[39;00m:\n\u001b[0;32m--> 478\u001b[0m         _merge_a_into_b(v, b[k], root, key_list \u001b[38;5;241m+\u001b[39m [k])\n\u001b[1;32m    479\u001b[0m     \u001b[38;5;28;01mexcept\u001b[39;00m \u001b[38;5;167;01mBaseException\u001b[39;00m:\n\u001b[1;32m    480\u001b[0m         \u001b[38;5;28;01mraise\u001b[39;00m\n",
      "File \u001b[0;32m~/miniconda3/envs/torch-env/lib/python3.11/site-packages/yacs/config.py:474\u001b[0m, in \u001b[0;36m_merge_a_into_b\u001b[0;34m(a, b, root, key_list)\u001b[0m\n\u001b[1;32m    471\u001b[0m v \u001b[38;5;241m=\u001b[39m b\u001b[38;5;241m.\u001b[39m_decode_cfg_value(v)\n\u001b[1;32m    473\u001b[0m \u001b[38;5;28;01mif\u001b[39;00m k \u001b[38;5;129;01min\u001b[39;00m b:\n\u001b[0;32m--> 474\u001b[0m     v \u001b[38;5;241m=\u001b[39m _check_and_coerce_cfg_value_type(v, b[k], k, full_key)\n\u001b[1;32m    475\u001b[0m     \u001b[38;5;66;03m# Recursively merge dicts\u001b[39;00m\n\u001b[1;32m    476\u001b[0m     \u001b[38;5;28;01mif\u001b[39;00m \u001b[38;5;28misinstance\u001b[39m(v, CfgNode):\n",
      "File \u001b[0;32m~/miniconda3/envs/torch-env/lib/python3.11/site-packages/yacs/config.py:534\u001b[0m, in \u001b[0;36m_check_and_coerce_cfg_value_type\u001b[0;34m(replacement, original, key, full_key)\u001b[0m\n\u001b[1;32m    531\u001b[0m     \u001b[38;5;28;01mif\u001b[39;00m converted:\n\u001b[1;32m    532\u001b[0m         \u001b[38;5;28;01mreturn\u001b[39;00m converted_value\n\u001b[0;32m--> 534\u001b[0m \u001b[38;5;28;01mraise\u001b[39;00m \u001b[38;5;167;01mValueError\u001b[39;00m(\n\u001b[1;32m    535\u001b[0m     \u001b[38;5;124m\"\u001b[39m\u001b[38;5;124mType mismatch (\u001b[39m\u001b[38;5;132;01m{}\u001b[39;00m\u001b[38;5;124m vs. \u001b[39m\u001b[38;5;132;01m{}\u001b[39;00m\u001b[38;5;124m) with values (\u001b[39m\u001b[38;5;132;01m{}\u001b[39;00m\u001b[38;5;124m vs. \u001b[39m\u001b[38;5;132;01m{}\u001b[39;00m\u001b[38;5;124m) for config \u001b[39m\u001b[38;5;124m\"\u001b[39m\n\u001b[1;32m    536\u001b[0m     \u001b[38;5;124m\"\u001b[39m\u001b[38;5;124mkey: \u001b[39m\u001b[38;5;132;01m{}\u001b[39;00m\u001b[38;5;124m\"\u001b[39m\u001b[38;5;241m.\u001b[39mformat(\n\u001b[1;32m    537\u001b[0m         original_type, replacement_type, original, replacement, full_key\n\u001b[1;32m    538\u001b[0m     )\n\u001b[1;32m    539\u001b[0m )\n",
      "\u001b[0;31mValueError\u001b[0m: Type mismatch (<class 'list'> vs. <class 'int'>) with values ([192, 384, 576] vs. 192) for config key: MODEL.YOLO.OUT_CHANNELS"
     ]
    }
   ],
   "source": [
    "from demo_model import SGG_Model\n",
    "import cv2\n",
    "import os\n",
    "\n",
    "import matplotlib.pyplot as plt\n",
    "\n",
    "config_path = \"../checkpoints/react_PSG/config.yml\"\n",
    "weights_path = \"../checkpoints/react_PSG/best_model_epoch_11.pth\"\n",
    "\n",
    "source = \"./example.jpg\"\n",
    "model = SGG_Model(config_path, weights_path, rel_conf=0.1, box_conf=0.01, show_fps=False)"
   ]
  },
  {
   "cell_type": "code",
   "execution_count": null,
   "metadata": {},
   "outputs": [],
   "source": [
    "if '.jpg' in source:\n",
    "    example_img = source\n",
    "\n",
    "    img = cv2.imread(example_img)\n",
    "\n",
    "    clean_img, graph = model.predict(img, visu_type='image')\n",
    "\n",
    "elif os.path.isdir(source):\n",
    "    os.makedirs(source + '/results', exist_ok=True)\n",
    "\n",
    "    for file in os.listdir(source):\n",
    "        example_img = source + '/' + file\n",
    "\n",
    "        if '.jpg' not in example_img:\n",
    "            continue\n",
    "\n",
    "        img = cv2.imread(example_img)\n",
    "\n",
    "        clean_img, graph = model.predict(img, visu_type='image')\n",
    "\n",
    "        # to rgb\n",
    "        clean_img = cv2.cvtColor(clean_img, cv2.COLOR_BGR2RGB)\n",
    "        # save to dir\n",
    "        cv2.imwrite(source + '/results/res_' + file, clean_img)"
   ]
  },
  {
   "cell_type": "code",
   "execution_count": null,
   "metadata": {},
   "outputs": [],
   "source": [
    "plt.figure(figsize=(15, 15))  # You can adjust the size as needed\n",
    "plt.imshow(clean_img)\n",
    "plt.axis('off')\n",
    "plt.show()"
   ]
  },
  {
   "cell_type": "code",
   "execution_count": null,
   "metadata": {},
   "outputs": [],
   "source": [
    "plt.figure(figsize=(15, 8))  # You can adjust the size as needed\n",
    "plt.imshow(graph)\n",
    "plt.axis('off')\n",
    "plt.show()"
   ]
  },
  {
   "cell_type": "code",
   "execution_count": null,
   "metadata": {},
   "outputs": [],
   "source": []
  }
 ],
 "metadata": {
  "kernelspec": {
   "display_name": "Python 3 (ipykernel)",
   "language": "python",
   "name": "python3"
  },
  "language_info": {
   "codemirror_mode": {
    "name": "ipython",
    "version": 3
   },
   "file_extension": ".py",
   "mimetype": "text/x-python",
   "name": "python",
   "nbconvert_exporter": "python",
   "pygments_lexer": "ipython3",
   "version": "3.11.11"
  }
 },
 "nbformat": 4,
 "nbformat_minor": 4
}
